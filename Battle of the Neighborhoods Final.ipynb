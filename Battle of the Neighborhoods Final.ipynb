{
    "cells": [
        {
            "cell_type": "markdown",
            "metadata": {
                "collapsed": true
            },
            "source": "# Battle of the Neighborhoods"
        },
        {
            "cell_type": "markdown",
            "metadata": {},
            "source": "## Introduction/Business Report"
        },
        {
            "cell_type": "markdown",
            "metadata": {},
            "source": "The question I will be trying to answer is if someone is looking to open their own coffee shop, what would be the best neighborhood in Toronto to open it in? Coffee shops are an incredibly competitive market and with so many already around, using data science and basic economic principles to help decide location, would give this business an upper hand, relative to those without this information. I will be using the information I get on current coffee shop location data, to determine, based on Hotelling's linear city model, competitive advantage and supply and demand functions, which would be the ideal location for the coffee shop to get the highest profits. \n\nHotelling's model essentially states that businesses with near identical products should space themselves out equidistant from one another from the radius of a given \"circular city\" (1). (There is also a horizonal city model but the circular city model more closely represents the k-clusters I will be using in my data, which will be further described below). \n\nCoffee shops should space themselves out equally to attract underserved areas and to entice customers who would be reducing travel time to go to the new coffee shop instead. Being too close to other coffee shops runs the risk of entering a price war, and would mean having to reduce marginal costs moreso than the competitors to be able to stay in the market. This report will benifit people who have limited knowledge of current coffee shop locations throughout Toronto, and useful information for leveraging currect Foursquare data and economic principles in order to determine business locations and ideal price points. "
        },
        {
            "cell_type": "markdown",
            "metadata": {},
            "source": "## Data\n\nTo solve this problem, I will be using softeware to analyze location data pulled from Foursquare and the built in Python GeoCoder Library. I will also be pulling from information from our week 3 lab to be able to analyze the data using numerous Python Libraries. I will be using Folium mapping libraries to clearly display the data that I find. Finally I will be pulling on prior economic knownledge to introduce competetitive advantage and Hotelling's linear city model. \n\nThe data I will be pulling from Foursquare will be Neighborhood, Neighborhood Latitude, Neighborhood Longitude, Venue, Name of the venue e.g. the name of a store or restaurant, Venue Latitude, Venue Longitude, Venue Category. I will be focusing on the total number of coffee shops under the venue category per neighborhood. "
        },
        {
            "cell_type": "markdown",
            "metadata": {},
            "source": "## Methodology\nMethodology section which represents the main component of the report where you discuss and describe any exploratory data analysis that you did, any inferential statistical testing that you performed, if any, and what machine learnings were used and why.\n"
        },
        {
            "cell_type": "markdown",
            "metadata": {},
            "source": "## Results\nResults section where you discuss the results."
        },
        {
            "cell_type": "markdown",
            "metadata": {},
            "source": "## Discussion\nDiscussion section where you discuss any observations you noted and any recommendations you can make based on the results."
        },
        {
            "cell_type": "markdown",
            "metadata": {},
            "source": "## Conclusion\nConclusion section where you conclude the report."
        },
        {
            "cell_type": "code",
            "execution_count": null,
            "metadata": {},
            "outputs": [],
            "source": ""
        }
    ],
    "metadata": {
        "kernelspec": {
            "display_name": "Python 3.7",
            "language": "python",
            "name": "python3"
        },
        "language_info": {
            "codemirror_mode": {
                "name": "ipython",
                "version": 3
            },
            "file_extension": ".py",
            "mimetype": "text/x-python",
            "name": "python",
            "nbconvert_exporter": "python",
            "pygments_lexer": "ipython3",
            "version": "3.7.9"
        }
    },
    "nbformat": 4,
    "nbformat_minor": 1
}